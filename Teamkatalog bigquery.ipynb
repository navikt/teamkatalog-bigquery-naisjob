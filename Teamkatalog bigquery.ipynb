{
 "cells": [
  {
   "cell_type": "markdown",
   "id": "7513035b-87fd-4e65-9c18-bcae666cca5e",
   "metadata": {
    "jupyter": {
     "source_hidden": true
    },
    "tags": []
   },
   "source": [
    "### Setup"
   ]
  },
  {
   "cell_type": "code",
   "execution_count": null,
   "id": "7420e5f4-614d-40cf-b27b-e62d3792adfe",
   "metadata": {},
   "outputs": [],
   "source": []
  },
  {
   "cell_type": "code",
   "execution_count": null,
   "id": "fd663615-3714-4ef2-a244-920a27210d3b",
   "metadata": {},
   "outputs": [],
   "source": []
  },
  {
   "cell_type": "code",
   "execution_count": 3,
   "id": "42bd17f7-20a9-44cb-82cc-2c1fc1b317ba",
   "metadata": {
    "jupyter": {
     "source_hidden": true
    },
    "tags": []
   },
   "outputs": [],
   "source": [
    "import pandas as pd\n",
    "import requests\n",
    "\n",
    "# Utils\n",
    "import json\n",
    "from pandas import json_normalize\n",
    "import enum\n",
    "\n",
    "# Options\n",
    "pd.set_option('display.max_rows', 500)\n",
    "pd.set_option('display.max_columns', 500)\n",
    "\n",
    "headers = {'Content-Type': 'application/json'}"
   ]
  },
  {
   "cell_type": "code",
   "execution_count": 38,
   "id": "4de5f65d-e57e-452f-bb4f-f74d2b359b66",
   "metadata": {},
   "outputs": [],
   "source": [
    "import os\n",
    "from google.cloud import secretmanager\n",
    "#secrets = secretmanager.SecretManagerServiceClient()\n",
    "\n",
    "#resource_name = f\"{os.environ['KNADA_TEAM_SECRET']}/versions/latest\"\n",
    "#secret = secrets.access_secret_version(name=resource_name)\n",
    "#data = secret.payload.data.decode('UTF-8')"
   ]
  },
  {
   "cell_type": "markdown",
   "id": "51414835-e4a2-45ae-848b-5504da88615a",
   "metadata": {},
   "source": [
    "### Config"
   ]
  },
  {
   "cell_type": "code",
   "execution_count": 4,
   "id": "1a99eae4-7b36-4cd6-8893-89655db7ca15",
   "metadata": {},
   "outputs": [],
   "source": [
    "class TeamType(enum.Enum):\n",
    "    PRODUCT = \"Produktteam\"\n",
    "    IT = \"IT-team\"\n",
    "    ADMINISTRATION = \"Forvaltningsteam\"\n",
    "    PROJECT = \"Prosjektteam\"\n",
    "    OTHER = \"Annet\"\n",
    "    UNKNOWN = \"Ukjent\""
   ]
  },
  {
   "cell_type": "code",
   "execution_count": 5,
   "id": "d0a014cb-3500-42ae-9034-47250241e280",
   "metadata": {},
   "outputs": [],
   "source": [
    "class AreaType(enum.Enum):\n",
    "    IT = \"IT-område\"\n",
    "    PRODUCT_AREA = \"Produktområde\"\n",
    "    PROJECT = \"Prosjekt\"\n",
    "    OTHER = \"Annet\""
   ]
  },
  {
   "cell_type": "markdown",
   "id": "9f35ee32-9db4-45dc-9c3f-539d1a601415",
   "metadata": {},
   "source": [
    "### Get Data"
   ]
  },
  {
   "cell_type": "code",
   "execution_count": 6,
   "id": "31d77ed0-54a5-4349-abe6-f093cc1a9e6c",
   "metadata": {},
   "outputs": [
    {
     "name": "stderr",
     "output_type": "stream",
     "text": [
      "/tmp/ipykernel_68/1016234608.py:6: FutureWarning: The frame.append method is deprecated and will be removed from pandas in a future version. Use pandas.concat instead.\n",
      "  df_productarea = df_productarea.append(normalized, sort=True)\n"
     ]
    }
   ],
   "source": [
    "df_productarea = pd.DataFrame()\n",
    "url = 'https://teamkatalog-api.nais.adeo.no/productarea'\n",
    "r = requests.get(url, headers=headers)\n",
    "content = r.json()['content']\n",
    "normalized = json_normalize(content)\n",
    "df_productarea = df_productarea.append(normalized, sort=True)\n",
    "df_productarea['member-list'] = df_productarea['members'].apply(lambda x: json_normalize(x).to_records())"
   ]
  },
  {
   "cell_type": "code",
   "execution_count": 16,
   "id": "9c798017-eead-4dea-9710-cd0bc789988f",
   "metadata": {},
   "outputs": [
    {
     "data": {
      "text/html": [
       "<div>\n",
       "<style scoped>\n",
       "    .dataframe tbody tr th:only-of-type {\n",
       "        vertical-align: middle;\n",
       "    }\n",
       "\n",
       "    .dataframe tbody tr th {\n",
       "        vertical-align: top;\n",
       "    }\n",
       "\n",
       "    .dataframe thead th {\n",
       "        text-align: right;\n",
       "    }\n",
       "</style>\n",
       "<table border=\"1\" class=\"dataframe\">\n",
       "  <thead>\n",
       "    <tr style=\"text-align: right;\">\n",
       "      <th></th>\n",
       "      <th>areaType</th>\n",
       "      <th>changeStamp_lastModifiedDate</th>\n",
       "      <th>defaultArea</th>\n",
       "      <th>description</th>\n",
       "      <th>id</th>\n",
       "      <th>links_slackChannels</th>\n",
       "      <th>links_ui</th>\n",
       "      <th>members</th>\n",
       "      <th>name</th>\n",
       "      <th>paOwnerGroup</th>\n",
       "      <th>paOwnerGroup_ownerGroupMemberResourceList</th>\n",
       "      <th>paOwnerGroup_ownerResource</th>\n",
       "      <th>paOwnerGroup_ownerResource_email</th>\n",
       "      <th>paOwnerGroup_ownerResource_endDate</th>\n",
       "      <th>paOwnerGroup_ownerResource_familyName</th>\n",
       "      <th>paOwnerGroup_ownerResource_fullName</th>\n",
       "      <th>paOwnerGroup_ownerResource_givenName</th>\n",
       "      <th>paOwnerGroup_ownerResource_links_ui</th>\n",
       "      <th>paOwnerGroup_ownerResource_navIdent</th>\n",
       "      <th>paOwnerGroup_ownerResource_onLeave</th>\n",
       "      <th>paOwnerGroup_ownerResource_resourceType</th>\n",
       "      <th>paOwnerGroup_ownerResource_stale</th>\n",
       "      <th>paOwnerGroup_ownerResource_startDate</th>\n",
       "      <th>slackChannel</th>\n",
       "      <th>status</th>\n",
       "      <th>tags</th>\n",
       "      <th>member-list</th>\n",
       "    </tr>\n",
       "  </thead>\n",
       "  <tbody>\n",
       "    <tr>\n",
       "      <th>0</th>\n",
       "      <td>Produktområde</td>\n",
       "      <td>2022-05-07T11:48:31.0226</td>\n",
       "      <td>False</td>\n",
       "      <td>I produktområde helse utvikler vi digitale tje...</td>\n",
       "      <td>6b149078-927b-4570-a1ce-97bbb9499fb6</td>\n",
       "      <td>[{'name': '#område-helse', 'url': 'https://sla...</td>\n",
       "      <td>https://teamkatalog.nav.no/area/6b149078-927b-...</td>\n",
       "      <td>[{'navIdent': 'M164897', 'description': None, ...</td>\n",
       "      <td>Produktområde helse</td>\n",
       "      <td>NaN</td>\n",
       "      <td>[{'navIdent': 'W138575', 'givenName': 'Kristin...</td>\n",
       "      <td>NaN</td>\n",
       "      <td>Kristian.Munthe@nav.no</td>\n",
       "      <td>NaN</td>\n",
       "      <td>Munthe</td>\n",
       "      <td>Kristian Munthe</td>\n",
       "      <td>Kristian</td>\n",
       "      <td>https://teamkatalog.nav.no/resource/M106440</td>\n",
       "      <td>M106440</td>\n",
       "      <td>False</td>\n",
       "      <td>INTERNAL</td>\n",
       "      <td>False</td>\n",
       "      <td>2000-12-28</td>\n",
       "      <td>#område-helse</td>\n",
       "      <td>ACTIVE</td>\n",
       "      <td>[]</td>\n",
       "      <td>[[0, M164897, None, [AREA_LEAD], 0, None, None...</td>\n",
       "    </tr>\n",
       "  </tbody>\n",
       "</table>\n",
       "</div>"
      ],
      "text/plain": [
       "        areaType changeStamp_lastModifiedDate  defaultArea  \\\n",
       "0  Produktområde     2022-05-07T11:48:31.0226        False   \n",
       "\n",
       "                                         description  \\\n",
       "0  I produktområde helse utvikler vi digitale tje...   \n",
       "\n",
       "                                     id  \\\n",
       "0  6b149078-927b-4570-a1ce-97bbb9499fb6   \n",
       "\n",
       "                                 links_slackChannels  \\\n",
       "0  [{'name': '#område-helse', 'url': 'https://sla...   \n",
       "\n",
       "                                            links_ui  \\\n",
       "0  https://teamkatalog.nav.no/area/6b149078-927b-...   \n",
       "\n",
       "                                             members                 name  \\\n",
       "0  [{'navIdent': 'M164897', 'description': None, ...  Produktområde helse   \n",
       "\n",
       "   paOwnerGroup          paOwnerGroup_ownerGroupMemberResourceList  \\\n",
       "0           NaN  [{'navIdent': 'W138575', 'givenName': 'Kristin...   \n",
       "\n",
       "   paOwnerGroup_ownerResource paOwnerGroup_ownerResource_email  \\\n",
       "0                         NaN           Kristian.Munthe@nav.no   \n",
       "\n",
       "   paOwnerGroup_ownerResource_endDate paOwnerGroup_ownerResource_familyName  \\\n",
       "0                                 NaN                                Munthe   \n",
       "\n",
       "  paOwnerGroup_ownerResource_fullName paOwnerGroup_ownerResource_givenName  \\\n",
       "0                     Kristian Munthe                             Kristian   \n",
       "\n",
       "           paOwnerGroup_ownerResource_links_ui  \\\n",
       "0  https://teamkatalog.nav.no/resource/M106440   \n",
       "\n",
       "  paOwnerGroup_ownerResource_navIdent paOwnerGroup_ownerResource_onLeave  \\\n",
       "0                             M106440                              False   \n",
       "\n",
       "  paOwnerGroup_ownerResource_resourceType paOwnerGroup_ownerResource_stale  \\\n",
       "0                                INTERNAL                            False   \n",
       "\n",
       "  paOwnerGroup_ownerResource_startDate   slackChannel  status tags  \\\n",
       "0                           2000-12-28  #område-helse  ACTIVE   []   \n",
       "\n",
       "                                         member-list  \n",
       "0  [[0, M164897, None, [AREA_LEAD], 0, None, None...  "
      ]
     },
     "execution_count": 16,
     "metadata": {},
     "output_type": "execute_result"
    }
   ],
   "source": [
    "df_productarea.head(1)"
   ]
  },
  {
   "cell_type": "code",
   "execution_count": 8,
   "id": "3082bcf4-1459-447f-8e8e-7d81ca21eb37",
   "metadata": {},
   "outputs": [],
   "source": [
    "df_productarea = df_productarea.drop(columns=['changeStamp.lastModifiedBy'])"
   ]
  },
  {
   "cell_type": "code",
   "execution_count": 20,
   "id": "10670895-faa4-4daa-be4a-94bbe7951ac6",
   "metadata": {},
   "outputs": [
    {
     "data": {
      "text/plain": [
       "areaType                                      object\n",
       "changeStamp_lastModifiedDate                  object\n",
       "defaultArea                                     bool\n",
       "description                                   object\n",
       "id                                            object\n",
       "links_slackChannels                           object\n",
       "links_ui                                      object\n",
       "members                                       object\n",
       "name                                          object\n",
       "paOwnerGroup                                 float64\n",
       "paOwnerGroup_ownerGroupMemberResourceList     object\n",
       "paOwnerGroup_ownerResource                   float64\n",
       "paOwnerGroup_ownerResource_email              object\n",
       "paOwnerGroup_ownerResource_endDate           float64\n",
       "paOwnerGroup_ownerResource_familyName         object\n",
       "paOwnerGroup_ownerResource_fullName           object\n",
       "paOwnerGroup_ownerResource_givenName          object\n",
       "paOwnerGroup_ownerResource_links_ui           object\n",
       "paOwnerGroup_ownerResource_navIdent           object\n",
       "paOwnerGroup_ownerResource_onLeave            object\n",
       "paOwnerGroup_ownerResource_resourceType       object\n",
       "paOwnerGroup_ownerResource_stale              object\n",
       "paOwnerGroup_ownerResource_startDate          object\n",
       "slackChannel                                  object\n",
       "status                                        object\n",
       "tags                                          object\n",
       "member-list                                   object\n",
       "dtype: object"
      ]
     },
     "execution_count": 20,
     "metadata": {},
     "output_type": "execute_result"
    }
   ],
   "source": [
    "df_productarea.dtypes"
   ]
  },
  {
   "cell_type": "code",
   "execution_count": 11,
   "id": "375fbc4b-8138-4c49-b50e-f08bb6efb65c",
   "metadata": {},
   "outputs": [],
   "source": [
    "def convert_area_type(area_type):\n",
    "    if area_type:\n",
    "        return AreaType[area_type].value\n",
    "    else:\n",
    "        return AreaType.OTHER.value"
   ]
  },
  {
   "cell_type": "code",
   "execution_count": 12,
   "id": "08fffc11-1a43-4b6d-bc16-fbaeb48f1b2e",
   "metadata": {},
   "outputs": [],
   "source": [
    "df_productarea[\"areaType\"] = df_productarea[\"areaType\"].apply(convert_area_type)"
   ]
  },
  {
   "cell_type": "code",
   "execution_count": 15,
   "id": "e307de08-5e7b-40fb-8cec-a9f7eb941de8",
   "metadata": {},
   "outputs": [
    {
     "name": "stderr",
     "output_type": "stream",
     "text": [
      "/tmp/ipykernel_68/3703384248.py:1: FutureWarning: The default value of regex will change from True to False in a future version. In addition, single character regular expressions will *not* be treated as literal strings when regex=True.\n",
      "  df_productarea.columns = df_productarea.columns.str.replace('.', '_')\n"
     ]
    }
   ],
   "source": [
    "df_productarea.columns = df_productarea.columns.str.replace('.', '_')"
   ]
  },
  {
   "cell_type": "code",
   "execution_count": 17,
   "id": "61c4aa09-9399-49ea-aef8-79229d0e93c5",
   "metadata": {},
   "outputs": [
    {
     "name": "stderr",
     "output_type": "stream",
     "text": [
      "/tmp/ipykernel_68/1674685619.py:6: FutureWarning: The frame.append method is deprecated and will be removed from pandas in a future version. Use pandas.concat instead.\n",
      "  df_teams = df_teams.append(normalized, sort=True)\n"
     ]
    }
   ],
   "source": [
    "df_teams = pd.DataFrame()\n",
    "url = 'https://teamkatalog-api.nais.adeo.no/team'\n",
    "r = requests.get(url, headers=headers)\n",
    "content = r.json()['content']\n",
    "normalized = json_normalize(content)\n",
    "df_teams = df_teams.append(normalized, sort=True)\n",
    "df_teams['member-list'] = df_teams['members'].apply(lambda x: json_normalize(x).to_records())"
   ]
  },
  {
   "cell_type": "code",
   "execution_count": 26,
   "id": "b0572407-02be-4120-aa4f-3b14f351e2c8",
   "metadata": {},
   "outputs": [
    {
     "data": {
      "text/html": [
       "<div>\n",
       "<style scoped>\n",
       "    .dataframe tbody tr th:only-of-type {\n",
       "        vertical-align: middle;\n",
       "    }\n",
       "\n",
       "    .dataframe tbody tr th {\n",
       "        vertical-align: top;\n",
       "    }\n",
       "\n",
       "    .dataframe thead th {\n",
       "        text-align: right;\n",
       "    }\n",
       "</style>\n",
       "<table border=\"1\" class=\"dataframe\">\n",
       "  <thead>\n",
       "    <tr style=\"text-align: right;\">\n",
       "      <th></th>\n",
       "      <th>changeStamp_lastModifiedDate</th>\n",
       "      <th>clusterIds</th>\n",
       "      <th>contactAddresses</th>\n",
       "      <th>contactPersonIdent</th>\n",
       "      <th>description</th>\n",
       "      <th>id</th>\n",
       "      <th>links_slackChannels</th>\n",
       "      <th>links_ui</th>\n",
       "      <th>members</th>\n",
       "      <th>naisTeams</th>\n",
       "      <th>name</th>\n",
       "      <th>officeHours</th>\n",
       "      <th>officeHours_days</th>\n",
       "      <th>officeHours_information</th>\n",
       "      <th>officeHours_location_code</th>\n",
       "      <th>officeHours_location_description</th>\n",
       "      <th>officeHours_location_displayName</th>\n",
       "      <th>officeHours_location_parent_code</th>\n",
       "      <th>officeHours_location_parent_description</th>\n",
       "      <th>officeHours_location_parent_displayName</th>\n",
       "      <th>officeHours_location_parent_parent_code</th>\n",
       "      <th>officeHours_location_parent_parent_description</th>\n",
       "      <th>officeHours_location_parent_parent_displayName</th>\n",
       "      <th>officeHours_location_parent_parent_parent</th>\n",
       "      <th>officeHours_location_parent_parent_type</th>\n",
       "      <th>officeHours_location_parent_type</th>\n",
       "      <th>officeHours_location_type</th>\n",
       "      <th>productAreaId</th>\n",
       "      <th>qaTime</th>\n",
       "      <th>slackChannel</th>\n",
       "      <th>status</th>\n",
       "      <th>tags</th>\n",
       "      <th>teamOwnerIdent</th>\n",
       "      <th>teamOwnershipType</th>\n",
       "      <th>teamType</th>\n",
       "      <th>member-list</th>\n",
       "    </tr>\n",
       "  </thead>\n",
       "  <tbody>\n",
       "    <tr>\n",
       "      <th>0</th>\n",
       "      <td>2023-02-06T12:02:05.039352</td>\n",
       "      <td>[]</td>\n",
       "      <td>[{'address': 'CSV5ZTXCH', 'type': 'SLACK'}]</td>\n",
       "      <td>G165874</td>\n",
       "      <td>Vi utvikler en modul som fanger opp saker der ...</td>\n",
       "      <td>0dd4d621-3482-4600-a356-e49666f1f1f8</td>\n",
       "      <td>[{'name': '#team-risk-værsågod', 'url': 'https...</td>\n",
       "      <td>https://teamkatalog.nav.no/team/0dd4d621-3482-...</td>\n",
       "      <td>[{'navIdent': 'G153965', 'description': None, ...</td>\n",
       "      <td>[risk]</td>\n",
       "      <td>Team Risk</td>\n",
       "      <td>NaN</td>\n",
       "      <td>[]</td>\n",
       "      <td>Vi er et Remote-first-team. Samlingsbasert.</td>\n",
       "      <td>FA1-BB-E6</td>\n",
       "      <td>Etasje 6</td>\n",
       "      <td>Fyrstikkalléen 1, Bygg B, Etasje 6</td>\n",
       "      <td>FA1-BB</td>\n",
       "      <td>Bygg B</td>\n",
       "      <td>Fyrstikkalléen 1, Bygg B</td>\n",
       "      <td>FA1</td>\n",
       "      <td>Fyrstikkalléen 1</td>\n",
       "      <td>Fyrstikkalléen 1</td>\n",
       "      <td>NaN</td>\n",
       "      <td>BUILDING</td>\n",
       "      <td>SECTION</td>\n",
       "      <td>FLOOR</td>\n",
       "      <td>6b149078-927b-4570-a1ce-97bbb9499fb6</td>\n",
       "      <td>2020-08-31T13:35:45.161548</td>\n",
       "      <td>team-risk-værsågod</td>\n",
       "      <td>ACTIVE</td>\n",
       "      <td>[]</td>\n",
       "      <td>None</td>\n",
       "      <td>PRODUCT</td>\n",
       "      <td>COMPLICATED_SUBSYSTEM</td>\n",
       "      <td>[[0, G153965, None, [DEVELOPER, SECURITY_CHAMP...</td>\n",
       "    </tr>\n",
       "  </tbody>\n",
       "</table>\n",
       "</div>"
      ],
      "text/plain": [
       "  changeStamp_lastModifiedDate clusterIds  \\\n",
       "0   2023-02-06T12:02:05.039352         []   \n",
       "\n",
       "                              contactAddresses contactPersonIdent  \\\n",
       "0  [{'address': 'CSV5ZTXCH', 'type': 'SLACK'}]            G165874   \n",
       "\n",
       "                                         description  \\\n",
       "0  Vi utvikler en modul som fanger opp saker der ...   \n",
       "\n",
       "                                     id  \\\n",
       "0  0dd4d621-3482-4600-a356-e49666f1f1f8   \n",
       "\n",
       "                                 links_slackChannels  \\\n",
       "0  [{'name': '#team-risk-værsågod', 'url': 'https...   \n",
       "\n",
       "                                            links_ui  \\\n",
       "0  https://teamkatalog.nav.no/team/0dd4d621-3482-...   \n",
       "\n",
       "                                             members naisTeams       name  \\\n",
       "0  [{'navIdent': 'G153965', 'description': None, ...    [risk]  Team Risk   \n",
       "\n",
       "   officeHours officeHours_days                       officeHours_information  \\\n",
       "0          NaN               []  Vi er et Remote-first-team. Samlingsbasert.    \n",
       "\n",
       "  officeHours_location_code officeHours_location_description  \\\n",
       "0                 FA1-BB-E6                         Etasje 6   \n",
       "\n",
       "     officeHours_location_displayName officeHours_location_parent_code  \\\n",
       "0  Fyrstikkalléen 1, Bygg B, Etasje 6                           FA1-BB   \n",
       "\n",
       "  officeHours_location_parent_description  \\\n",
       "0                                  Bygg B   \n",
       "\n",
       "  officeHours_location_parent_displayName  \\\n",
       "0                Fyrstikkalléen 1, Bygg B   \n",
       "\n",
       "  officeHours_location_parent_parent_code  \\\n",
       "0                                     FA1   \n",
       "\n",
       "  officeHours_location_parent_parent_description  \\\n",
       "0                               Fyrstikkalléen 1   \n",
       "\n",
       "  officeHours_location_parent_parent_displayName  \\\n",
       "0                               Fyrstikkalléen 1   \n",
       "\n",
       "   officeHours_location_parent_parent_parent  \\\n",
       "0                                        NaN   \n",
       "\n",
       "  officeHours_location_parent_parent_type officeHours_location_parent_type  \\\n",
       "0                                BUILDING                          SECTION   \n",
       "\n",
       "  officeHours_location_type                         productAreaId  \\\n",
       "0                     FLOOR  6b149078-927b-4570-a1ce-97bbb9499fb6   \n",
       "\n",
       "                       qaTime        slackChannel  status tags teamOwnerIdent  \\\n",
       "0  2020-08-31T13:35:45.161548  team-risk-værsågod  ACTIVE   []           None   \n",
       "\n",
       "  teamOwnershipType               teamType  \\\n",
       "0           PRODUCT  COMPLICATED_SUBSYSTEM   \n",
       "\n",
       "                                         member-list  \n",
       "0  [[0, G153965, None, [DEVELOPER, SECURITY_CHAMP...  "
      ]
     },
     "execution_count": 26,
     "metadata": {},
     "output_type": "execute_result"
    }
   ],
   "source": [
    "df_teams.head(1)"
   ]
  },
  {
   "cell_type": "code",
   "execution_count": 25,
   "id": "d06575e2-5ab1-49bf-87d8-b96b2d39eb13",
   "metadata": {},
   "outputs": [
    {
     "data": {
      "text/plain": [
       "changeStamp_lastModifiedDate                       object\n",
       "clusterIds                                         object\n",
       "contactAddresses                                   object\n",
       "contactPersonIdent                                 object\n",
       "description                                        object\n",
       "id                                                 object\n",
       "links_slackChannels                                object\n",
       "links_ui                                           object\n",
       "members                                            object\n",
       "naisTeams                                          object\n",
       "name                                               object\n",
       "officeHours                                       float64\n",
       "officeHours_days                                   object\n",
       "officeHours_information                            object\n",
       "officeHours_location_code                          object\n",
       "officeHours_location_description                   object\n",
       "officeHours_location_displayName                   object\n",
       "officeHours_location_parent_code                   object\n",
       "officeHours_location_parent_description            object\n",
       "officeHours_location_parent_displayName            object\n",
       "officeHours_location_parent_parent_code            object\n",
       "officeHours_location_parent_parent_description     object\n",
       "officeHours_location_parent_parent_displayName     object\n",
       "officeHours_location_parent_parent_parent         float64\n",
       "officeHours_location_parent_parent_type            object\n",
       "officeHours_location_parent_type                   object\n",
       "officeHours_location_type                          object\n",
       "productAreaId                                      object\n",
       "qaTime                                             object\n",
       "slackChannel                                       object\n",
       "status                                             object\n",
       "tags                                               object\n",
       "teamOwnerIdent                                     object\n",
       "teamOwnershipType                                  object\n",
       "teamType                                           object\n",
       "member-list                                        object\n",
       "dtype: object"
      ]
     },
     "execution_count": 25,
     "metadata": {},
     "output_type": "execute_result"
    }
   ],
   "source": [
    "df_teams.dtypes"
   ]
  },
  {
   "cell_type": "code",
   "execution_count": 21,
   "id": "bce0c20f-c176-4819-9af0-0417131f0eb3",
   "metadata": {},
   "outputs": [],
   "source": [
    "df_teams = df_teams.drop(columns=['changeStamp.lastModifiedBy'])"
   ]
  },
  {
   "cell_type": "code",
   "execution_count": 22,
   "id": "4b91031b-6ed6-4c0c-9953-6f76b7e635ce",
   "metadata": {},
   "outputs": [],
   "source": [
    "def convert_team_type(team_type):\n",
    "    return TeamType[team_type].value"
   ]
  },
  {
   "cell_type": "code",
   "execution_count": 24,
   "id": "9cd5501a-380d-4fbd-9636-f443c87ac80b",
   "metadata": {},
   "outputs": [
    {
     "name": "stderr",
     "output_type": "stream",
     "text": [
      "/tmp/ipykernel_68/2535767319.py:1: FutureWarning: The default value of regex will change from True to False in a future version. In addition, single character regular expressions will *not* be treated as literal strings when regex=True.\n",
      "  df_teams.columns = df_teams.columns.str.replace('.', '_')\n"
     ]
    }
   ],
   "source": [
    "df_teams.columns = df_teams.columns.str.replace('.', '_')"
   ]
  },
  {
   "cell_type": "markdown",
   "id": "a18941a4-617c-4f69-b7a3-9a7dfe9be9cf",
   "metadata": {},
   "source": [
    "### Publish data to BigQuery"
   ]
  },
  {
   "cell_type": "code",
   "execution_count": 29,
   "id": "e7ec664b-2127-418a-b481-604596fc1c3a",
   "metadata": {},
   "outputs": [],
   "source": [
    "#Navn på prosjekt og dataset som definert i BigQuery\n",
    "project_id = 'org-prod-1016'\n",
    "dataset = 'teamkatalogen'\n",
    "\n",
    "from google.cloud import bigquery\n",
    "client = bigquery.Client(project=project_id)"
   ]
  },
  {
   "cell_type": "code",
   "execution_count": 30,
   "id": "65c730b4-d5e4-4ba1-a34d-cd5eaf9318c5",
   "metadata": {},
   "outputs": [],
   "source": [
    "df_teams_pub= df_teams.copy()"
   ]
  },
  {
   "cell_type": "code",
   "execution_count": 31,
   "id": "8794178e-f11c-4f10-aacb-3d9b98a4e7c4",
   "metadata": {},
   "outputs": [],
   "source": [
    "#df_teams_pub = df_teams_pub.astype({ 'tagger': 'string','regelverk': 'string', 'suksesskriterier': 'string', 'relevansFor': 'string'})"
   ]
  },
  {
   "cell_type": "code",
   "execution_count": 32,
   "id": "1a336693-c499-4774-82a6-f11ab61151f6",
   "metadata": {},
   "outputs": [],
   "source": [
    "#Istedenfor å spesifisere typen på variablene så plukker vi ut én kolonne til å teste med.\n",
    "df_teams_pub = df_teams_pub[['name']]"
   ]
  },
  {
   "cell_type": "code",
   "execution_count": 40,
   "id": "9517c075-7973-4dd8-b778-cecab8bfa552",
   "metadata": {},
   "outputs": [
    {
     "ename": "Forbidden",
     "evalue": "403 POST https://bigquery.googleapis.com/upload/bigquery/v2/projects/org-prod-1016/jobs?uploadType=multipart: Access Denied: Project org-prod-1016: User does not have bigquery.jobs.create permission in project org-prod-1016.",
     "output_type": "error",
     "traceback": [
      "\u001b[0;31m---------------------------------------------------------------------------\u001b[0m",
      "\u001b[0;31mInvalidResponse\u001b[0m                           Traceback (most recent call last)",
      "File \u001b[0;32m/opt/conda/lib/python3.9/site-packages/google/cloud/bigquery/client.py:2456\u001b[0m, in \u001b[0;36mClient.load_table_from_file\u001b[0;34m(self, file_obj, destination, rewind, size, num_retries, job_id, job_id_prefix, location, project, job_config, timeout)\u001b[0m\n\u001b[1;32m   2455\u001b[0m     \u001b[38;5;28;01melse\u001b[39;00m:\n\u001b[0;32m-> 2456\u001b[0m         response \u001b[38;5;241m=\u001b[39m \u001b[38;5;28;43mself\u001b[39;49m\u001b[38;5;241;43m.\u001b[39;49m\u001b[43m_do_multipart_upload\u001b[49m\u001b[43m(\u001b[49m\n\u001b[1;32m   2457\u001b[0m \u001b[43m            \u001b[49m\u001b[43mfile_obj\u001b[49m\u001b[43m,\u001b[49m\u001b[43m \u001b[49m\u001b[43mjob_resource\u001b[49m\u001b[43m,\u001b[49m\u001b[43m \u001b[49m\u001b[43msize\u001b[49m\u001b[43m,\u001b[49m\u001b[43m \u001b[49m\u001b[43mnum_retries\u001b[49m\u001b[43m,\u001b[49m\u001b[43m \u001b[49m\u001b[43mtimeout\u001b[49m\u001b[43m,\u001b[49m\u001b[43m \u001b[49m\u001b[43mproject\u001b[49m\u001b[38;5;241;43m=\u001b[39;49m\u001b[43mproject\u001b[49m\n\u001b[1;32m   2458\u001b[0m \u001b[43m        \u001b[49m\u001b[43m)\u001b[49m\n\u001b[1;32m   2459\u001b[0m \u001b[38;5;28;01mexcept\u001b[39;00m resumable_media\u001b[38;5;241m.\u001b[39mInvalidResponse \u001b[38;5;28;01mas\u001b[39;00m exc:\n",
      "File \u001b[0;32m/opt/conda/lib/python3.9/site-packages/google/cloud/bigquery/client.py:3026\u001b[0m, in \u001b[0;36mClient._do_multipart_upload\u001b[0;34m(self, stream, metadata, size, num_retries, timeout, project)\u001b[0m\n\u001b[1;32m   3022\u001b[0m     upload\u001b[38;5;241m.\u001b[39m_retry_strategy \u001b[38;5;241m=\u001b[39m resumable_media\u001b[38;5;241m.\u001b[39mRetryStrategy(\n\u001b[1;32m   3023\u001b[0m         max_retries\u001b[38;5;241m=\u001b[39mnum_retries\n\u001b[1;32m   3024\u001b[0m     )\n\u001b[0;32m-> 3026\u001b[0m response \u001b[38;5;241m=\u001b[39m \u001b[43mupload\u001b[49m\u001b[38;5;241;43m.\u001b[39;49m\u001b[43mtransmit\u001b[49m\u001b[43m(\u001b[49m\n\u001b[1;32m   3027\u001b[0m \u001b[43m    \u001b[49m\u001b[38;5;28;43mself\u001b[39;49m\u001b[38;5;241;43m.\u001b[39;49m\u001b[43m_http\u001b[49m\u001b[43m,\u001b[49m\u001b[43m \u001b[49m\u001b[43mdata\u001b[49m\u001b[43m,\u001b[49m\u001b[43m \u001b[49m\u001b[43mmetadata\u001b[49m\u001b[43m,\u001b[49m\u001b[43m \u001b[49m\u001b[43m_GENERIC_CONTENT_TYPE\u001b[49m\u001b[43m,\u001b[49m\u001b[43m \u001b[49m\u001b[43mtimeout\u001b[49m\u001b[38;5;241;43m=\u001b[39;49m\u001b[43mtimeout\u001b[49m\n\u001b[1;32m   3028\u001b[0m \u001b[43m\u001b[49m\u001b[43m)\u001b[49m\n\u001b[1;32m   3030\u001b[0m \u001b[38;5;28;01mreturn\u001b[39;00m response\n",
      "File \u001b[0;32m/opt/conda/lib/python3.9/site-packages/google/resumable_media/requests/upload.py:153\u001b[0m, in \u001b[0;36mMultipartUpload.transmit\u001b[0;34m(self, transport, data, metadata, content_type, timeout)\u001b[0m\n\u001b[1;32m    151\u001b[0m     \u001b[38;5;28;01mreturn\u001b[39;00m result\n\u001b[0;32m--> 153\u001b[0m \u001b[38;5;28;01mreturn\u001b[39;00m \u001b[43m_request_helpers\u001b[49m\u001b[38;5;241;43m.\u001b[39;49m\u001b[43mwait_and_retry\u001b[49m\u001b[43m(\u001b[49m\n\u001b[1;32m    154\u001b[0m \u001b[43m    \u001b[49m\u001b[43mretriable_request\u001b[49m\u001b[43m,\u001b[49m\u001b[43m \u001b[49m\u001b[38;5;28;43mself\u001b[39;49m\u001b[38;5;241;43m.\u001b[39;49m\u001b[43m_get_status_code\u001b[49m\u001b[43m,\u001b[49m\u001b[43m \u001b[49m\u001b[38;5;28;43mself\u001b[39;49m\u001b[38;5;241;43m.\u001b[39;49m\u001b[43m_retry_strategy\u001b[49m\n\u001b[1;32m    155\u001b[0m \u001b[43m\u001b[49m\u001b[43m)\u001b[49m\n",
      "File \u001b[0;32m/opt/conda/lib/python3.9/site-packages/google/resumable_media/requests/_request_helpers.py:148\u001b[0m, in \u001b[0;36mwait_and_retry\u001b[0;34m(func, get_status_code, retry_strategy)\u001b[0m\n\u001b[1;32m    147\u001b[0m \u001b[38;5;28;01mtry\u001b[39;00m:\n\u001b[0;32m--> 148\u001b[0m     response \u001b[38;5;241m=\u001b[39m \u001b[43mfunc\u001b[49m\u001b[43m(\u001b[49m\u001b[43m)\u001b[49m\n\u001b[1;32m    149\u001b[0m \u001b[38;5;28;01mexcept\u001b[39;00m _CONNECTION_ERROR_CLASSES \u001b[38;5;28;01mas\u001b[39;00m e:\n",
      "File \u001b[0;32m/opt/conda/lib/python3.9/site-packages/google/resumable_media/requests/upload.py:149\u001b[0m, in \u001b[0;36mMultipartUpload.transmit.<locals>.retriable_request\u001b[0;34m()\u001b[0m\n\u001b[1;32m    145\u001b[0m result \u001b[38;5;241m=\u001b[39m transport\u001b[38;5;241m.\u001b[39mrequest(\n\u001b[1;32m    146\u001b[0m     method, url, data\u001b[38;5;241m=\u001b[39mpayload, headers\u001b[38;5;241m=\u001b[39mheaders, timeout\u001b[38;5;241m=\u001b[39mtimeout\n\u001b[1;32m    147\u001b[0m )\n\u001b[0;32m--> 149\u001b[0m \u001b[38;5;28;43mself\u001b[39;49m\u001b[38;5;241;43m.\u001b[39;49m\u001b[43m_process_response\u001b[49m\u001b[43m(\u001b[49m\u001b[43mresult\u001b[49m\u001b[43m)\u001b[49m\n\u001b[1;32m    151\u001b[0m \u001b[38;5;28;01mreturn\u001b[39;00m result\n",
      "File \u001b[0;32m/opt/conda/lib/python3.9/site-packages/google/resumable_media/_upload.py:114\u001b[0m, in \u001b[0;36mUploadBase._process_response\u001b[0;34m(self, response)\u001b[0m\n\u001b[1;32m    113\u001b[0m \u001b[38;5;28mself\u001b[39m\u001b[38;5;241m.\u001b[39m_finished \u001b[38;5;241m=\u001b[39m \u001b[38;5;28;01mTrue\u001b[39;00m\n\u001b[0;32m--> 114\u001b[0m \u001b[43m_helpers\u001b[49m\u001b[38;5;241;43m.\u001b[39;49m\u001b[43mrequire_status_code\u001b[49m\u001b[43m(\u001b[49m\u001b[43mresponse\u001b[49m\u001b[43m,\u001b[49m\u001b[43m \u001b[49m\u001b[43m(\u001b[49m\u001b[43mhttp\u001b[49m\u001b[38;5;241;43m.\u001b[39;49m\u001b[43mclient\u001b[49m\u001b[38;5;241;43m.\u001b[39;49m\u001b[43mOK\u001b[49m\u001b[43m,\u001b[49m\u001b[43m)\u001b[49m\u001b[43m,\u001b[49m\u001b[43m \u001b[49m\u001b[38;5;28;43mself\u001b[39;49m\u001b[38;5;241;43m.\u001b[39;49m\u001b[43m_get_status_code\u001b[49m\u001b[43m)\u001b[49m\n",
      "File \u001b[0;32m/opt/conda/lib/python3.9/site-packages/google/resumable_media/_helpers.py:108\u001b[0m, in \u001b[0;36mrequire_status_code\u001b[0;34m(response, status_codes, get_status_code, callback)\u001b[0m\n\u001b[1;32m    107\u001b[0m         callback()\n\u001b[0;32m--> 108\u001b[0m     \u001b[38;5;28;01mraise\u001b[39;00m common\u001b[38;5;241m.\u001b[39mInvalidResponse(\n\u001b[1;32m    109\u001b[0m         response,\n\u001b[1;32m    110\u001b[0m         \u001b[38;5;124m\"\u001b[39m\u001b[38;5;124mRequest failed with status code\u001b[39m\u001b[38;5;124m\"\u001b[39m,\n\u001b[1;32m    111\u001b[0m         status_code,\n\u001b[1;32m    112\u001b[0m         \u001b[38;5;124m\"\u001b[39m\u001b[38;5;124mExpected one of\u001b[39m\u001b[38;5;124m\"\u001b[39m,\n\u001b[1;32m    113\u001b[0m         \u001b[38;5;241m*\u001b[39mstatus_codes\n\u001b[1;32m    114\u001b[0m     )\n\u001b[1;32m    115\u001b[0m \u001b[38;5;28;01mreturn\u001b[39;00m status_code\n",
      "\u001b[0;31mInvalidResponse\u001b[0m: ('Request failed with status code', 403, 'Expected one of', <HTTPStatus.OK: 200>)",
      "\nDuring handling of the above exception, another exception occurred:\n",
      "\u001b[0;31mForbidden\u001b[0m                                 Traceback (most recent call last)",
      "Cell \u001b[0;32mIn [40], line 5\u001b[0m\n\u001b[1;32m      2\u001b[0m destination_table \u001b[38;5;241m=\u001b[39m \u001b[38;5;124mf\u001b[39m\u001b[38;5;124m\"\u001b[39m\u001b[38;5;132;01m{\u001b[39;00mproject_id\u001b[38;5;132;01m}\u001b[39;00m\u001b[38;5;124m.\u001b[39m\u001b[38;5;132;01m{\u001b[39;00mdataset\u001b[38;5;132;01m}\u001b[39;00m\u001b[38;5;124m.\u001b[39m\u001b[38;5;132;01m{\u001b[39;00mtable\u001b[38;5;132;01m}\u001b[39;00m\u001b[38;5;124m\"\u001b[39m\n\u001b[1;32m      4\u001b[0m job_config \u001b[38;5;241m=\u001b[39m bigquery\u001b[38;5;241m.\u001b[39mLoadJobConfig(write_disposition\u001b[38;5;241m=\u001b[39m\u001b[38;5;124m\"\u001b[39m\u001b[38;5;124mWRITE_TRUNCATE\u001b[39m\u001b[38;5;124m\"\u001b[39m,)\n\u001b[0;32m----> 5\u001b[0m job \u001b[38;5;241m=\u001b[39m \u001b[43mclient\u001b[49m\u001b[38;5;241;43m.\u001b[39;49m\u001b[43mload_table_from_dataframe\u001b[49m\u001b[43m(\u001b[49m\u001b[43mdf_teams_pub\u001b[49m\u001b[43m,\u001b[49m\u001b[43m \u001b[49m\u001b[43mdestination_table\u001b[49m\u001b[43m,\u001b[49m\u001b[43m \u001b[49m\u001b[43mjob_config\u001b[49m\u001b[38;5;241;43m=\u001b[39;49m\u001b[43mjob_config\u001b[49m\u001b[43m)\u001b[49m\n\u001b[1;32m      6\u001b[0m job\u001b[38;5;241m.\u001b[39mresult()\n",
      "File \u001b[0;32m/opt/conda/lib/python3.9/site-packages/google/cloud/bigquery/client.py:2707\u001b[0m, in \u001b[0;36mClient.load_table_from_dataframe\u001b[0;34m(self, dataframe, destination, num_retries, job_id, job_id_prefix, location, project, job_config, parquet_compression, timeout)\u001b[0m\n\u001b[1;32m   2705\u001b[0m     \u001b[38;5;28;01mwith\u001b[39;00m \u001b[38;5;28mopen\u001b[39m(tmppath, \u001b[38;5;124m\"\u001b[39m\u001b[38;5;124mrb\u001b[39m\u001b[38;5;124m\"\u001b[39m) \u001b[38;5;28;01mas\u001b[39;00m tmpfile:\n\u001b[1;32m   2706\u001b[0m         file_size \u001b[38;5;241m=\u001b[39m os\u001b[38;5;241m.\u001b[39mpath\u001b[38;5;241m.\u001b[39mgetsize(tmppath)\n\u001b[0;32m-> 2707\u001b[0m         \u001b[38;5;28;01mreturn\u001b[39;00m \u001b[38;5;28;43mself\u001b[39;49m\u001b[38;5;241;43m.\u001b[39;49m\u001b[43mload_table_from_file\u001b[49m\u001b[43m(\u001b[49m\n\u001b[1;32m   2708\u001b[0m \u001b[43m            \u001b[49m\u001b[43mtmpfile\u001b[49m\u001b[43m,\u001b[49m\n\u001b[1;32m   2709\u001b[0m \u001b[43m            \u001b[49m\u001b[43mdestination\u001b[49m\u001b[43m,\u001b[49m\n\u001b[1;32m   2710\u001b[0m \u001b[43m            \u001b[49m\u001b[43mnum_retries\u001b[49m\u001b[38;5;241;43m=\u001b[39;49m\u001b[43mnum_retries\u001b[49m\u001b[43m,\u001b[49m\n\u001b[1;32m   2711\u001b[0m \u001b[43m            \u001b[49m\u001b[43mrewind\u001b[49m\u001b[38;5;241;43m=\u001b[39;49m\u001b[38;5;28;43;01mTrue\u001b[39;49;00m\u001b[43m,\u001b[49m\n\u001b[1;32m   2712\u001b[0m \u001b[43m            \u001b[49m\u001b[43msize\u001b[49m\u001b[38;5;241;43m=\u001b[39;49m\u001b[43mfile_size\u001b[49m\u001b[43m,\u001b[49m\n\u001b[1;32m   2713\u001b[0m \u001b[43m            \u001b[49m\u001b[43mjob_id\u001b[49m\u001b[38;5;241;43m=\u001b[39;49m\u001b[43mjob_id\u001b[49m\u001b[43m,\u001b[49m\n\u001b[1;32m   2714\u001b[0m \u001b[43m            \u001b[49m\u001b[43mjob_id_prefix\u001b[49m\u001b[38;5;241;43m=\u001b[39;49m\u001b[43mjob_id_prefix\u001b[49m\u001b[43m,\u001b[49m\n\u001b[1;32m   2715\u001b[0m \u001b[43m            \u001b[49m\u001b[43mlocation\u001b[49m\u001b[38;5;241;43m=\u001b[39;49m\u001b[43mlocation\u001b[49m\u001b[43m,\u001b[49m\n\u001b[1;32m   2716\u001b[0m \u001b[43m            \u001b[49m\u001b[43mproject\u001b[49m\u001b[38;5;241;43m=\u001b[39;49m\u001b[43mproject\u001b[49m\u001b[43m,\u001b[49m\n\u001b[1;32m   2717\u001b[0m \u001b[43m            \u001b[49m\u001b[43mjob_config\u001b[49m\u001b[38;5;241;43m=\u001b[39;49m\u001b[43mjob_config\u001b[49m\u001b[43m,\u001b[49m\n\u001b[1;32m   2718\u001b[0m \u001b[43m            \u001b[49m\u001b[43mtimeout\u001b[49m\u001b[38;5;241;43m=\u001b[39;49m\u001b[43mtimeout\u001b[49m\u001b[43m,\u001b[49m\n\u001b[1;32m   2719\u001b[0m \u001b[43m        \u001b[49m\u001b[43m)\u001b[49m\n\u001b[1;32m   2721\u001b[0m \u001b[38;5;28;01mfinally\u001b[39;00m:\n\u001b[1;32m   2722\u001b[0m     os\u001b[38;5;241m.\u001b[39mremove(tmppath)\n",
      "File \u001b[0;32m/opt/conda/lib/python3.9/site-packages/google/cloud/bigquery/client.py:2460\u001b[0m, in \u001b[0;36mClient.load_table_from_file\u001b[0;34m(self, file_obj, destination, rewind, size, num_retries, job_id, job_id_prefix, location, project, job_config, timeout)\u001b[0m\n\u001b[1;32m   2456\u001b[0m         response \u001b[38;5;241m=\u001b[39m \u001b[38;5;28mself\u001b[39m\u001b[38;5;241m.\u001b[39m_do_multipart_upload(\n\u001b[1;32m   2457\u001b[0m             file_obj, job_resource, size, num_retries, timeout, project\u001b[38;5;241m=\u001b[39mproject\n\u001b[1;32m   2458\u001b[0m         )\n\u001b[1;32m   2459\u001b[0m \u001b[38;5;28;01mexcept\u001b[39;00m resumable_media\u001b[38;5;241m.\u001b[39mInvalidResponse \u001b[38;5;28;01mas\u001b[39;00m exc:\n\u001b[0;32m-> 2460\u001b[0m     \u001b[38;5;28;01mraise\u001b[39;00m exceptions\u001b[38;5;241m.\u001b[39mfrom_http_response(exc\u001b[38;5;241m.\u001b[39mresponse)\n\u001b[1;32m   2462\u001b[0m \u001b[38;5;28;01mreturn\u001b[39;00m typing\u001b[38;5;241m.\u001b[39mcast(LoadJob, \u001b[38;5;28mself\u001b[39m\u001b[38;5;241m.\u001b[39mjob_from_resource(response\u001b[38;5;241m.\u001b[39mjson()))\n",
      "\u001b[0;31mForbidden\u001b[0m: 403 POST https://bigquery.googleapis.com/upload/bigquery/v2/projects/org-prod-1016/jobs?uploadType=multipart: Access Denied: Project org-prod-1016: User does not have bigquery.jobs.create permission in project org-prod-1016."
     ]
    }
   ],
   "source": [
    "table = 'teams'\n",
    "destination_table = f\"{project_id}.{dataset}.{table}\"\n",
    "\n",
    "job_config = bigquery.LoadJobConfig(write_disposition=\"WRITE_TRUNCATE\",)\n",
    "job = client.load_table_from_dataframe(df_teams_pub, destination_table, job_config=job_config)\n",
    "job.result()"
   ]
  },
  {
   "cell_type": "code",
   "execution_count": null,
   "id": "d14dc3b4-eedc-4f19-a6e9-b8f6d903c352",
   "metadata": {},
   "outputs": [],
   "source": []
  }
 ],
 "metadata": {
  "kernelspec": {
   "display_name": "Python 3 (ipykernel)",
   "language": "python",
   "name": "python3"
  },
  "language_info": {
   "codemirror_mode": {
    "name": "ipython",
    "version": 3
   },
   "file_extension": ".py",
   "mimetype": "text/x-python",
   "name": "python",
   "nbconvert_exporter": "python",
   "pygments_lexer": "ipython3",
   "version": "3.9.13"
  }
 },
 "nbformat": 4,
 "nbformat_minor": 5
}
