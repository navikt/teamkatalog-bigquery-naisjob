{
 "cells": [
  {
   "cell_type": "markdown",
   "id": "7513035b-87fd-4e65-9c18-bcae666cca5e",
   "metadata": {
    "tags": []
   },
   "source": [
    "### Setup"
   ]
  },
  {
   "cell_type": "code",
   "execution_count": null,
   "id": "7420e5f4-614d-40cf-b27b-e62d3792adfe",
   "metadata": {},
   "outputs": [],
   "source": []
  },
  {
   "cell_type": "code",
   "execution_count": null,
   "id": "fd663615-3714-4ef2-a244-920a27210d3b",
   "metadata": {},
   "outputs": [],
   "source": []
  },
  {
   "cell_type": "code",
   "execution_count": 1,
   "id": "42bd17f7-20a9-44cb-82cc-2c1fc1b317ba",
   "metadata": {
    "tags": []
   },
   "outputs": [],
   "source": [
    "import pandas as pd\n",
    "import requests\n",
    "\n",
    "# Utils\n",
    "import json\n",
    "from pandas import json_normalize\n",
    "import enum\n",
    "\n",
    "# Options\n",
    "pd.set_option('display.max_rows', 500)\n",
    "pd.set_option('display.max_columns', 500)\n",
    "\n",
    "headers = {'Content-Type': 'application/json'}"
   ]
  },
  {
   "cell_type": "code",
   "execution_count": 2,
   "id": "4de5f65d-e57e-452f-bb4f-f74d2b359b66",
   "metadata": {},
   "outputs": [],
   "source": [
    "#import os\n",
    "#from google.cloud import secretmanager\n",
    "#secrets = secretmanager.SecretManagerServiceClient()\n",
    "\n",
    "#resource_name = f\"{os.environ['KNADA_TEAM_SECRET']}/versions/latest\"\n",
    "#secret = secrets.access_secret_version(name=resource_name)\n",
    "#data = secret.payload.data.decode('UTF-8')"
   ]
  },
  {
   "cell_type": "markdown",
   "id": "51414835-e4a2-45ae-848b-5504da88615a",
   "metadata": {},
   "source": [
    "### Config"
   ]
  },
  {
   "cell_type": "code",
   "execution_count": 3,
   "id": "1a99eae4-7b36-4cd6-8893-89655db7ca15",
   "metadata": {},
   "outputs": [],
   "source": [
    "class TeamType(enum.Enum):\n",
    "    PRODUCT = \"Produktteam\"\n",
    "    IT = \"IT-team\"\n",
    "    ADMINISTRATION = \"Forvaltningsteam\"\n",
    "    PROJECT = \"Prosjektteam\"\n",
    "    OTHER = \"Annet\"\n",
    "    UNKNOWN = \"Ukjent\""
   ]
  },
  {
   "cell_type": "code",
   "execution_count": 4,
   "id": "d0a014cb-3500-42ae-9034-47250241e280",
   "metadata": {},
   "outputs": [],
   "source": [
    "class AreaType(enum.Enum):\n",
    "    IT = \"IT-område\"\n",
    "    PRODUCT_AREA = \"Produktområde\"\n",
    "    PROJECT = \"Prosjekt\"\n",
    "    OTHER = \"Annet\""
   ]
  },
  {
   "cell_type": "markdown",
   "id": "9f35ee32-9db4-45dc-9c3f-539d1a601415",
   "metadata": {},
   "source": [
    "### Get Data"
   ]
  },
  {
   "cell_type": "code",
   "execution_count": 5,
   "id": "31d77ed0-54a5-4349-abe6-f093cc1a9e6c",
   "metadata": {},
   "outputs": [
    {
     "name": "stderr",
     "output_type": "stream",
     "text": [
      "/tmp/ipykernel_242/1016234608.py:6: FutureWarning: The frame.append method is deprecated and will be removed from pandas in a future version. Use pandas.concat instead.\n",
      "  df_productarea = df_productarea.append(normalized, sort=True)\n"
     ]
    }
   ],
   "source": [
    "df_productarea = pd.DataFrame()\n",
    "url = 'https://teamkatalog-api.nais.adeo.no/productarea'\n",
    "r = requests.get(url, headers=headers)\n",
    "content = r.json()['content']\n",
    "normalized = json_normalize(content)\n",
    "df_productarea = df_productarea.append(normalized, sort=True)\n",
    "df_productarea['member-list'] = df_productarea['members'].apply(lambda x: json_normalize(x).to_records())"
   ]
  },
  {
   "cell_type": "code",
   "execution_count": 6,
   "id": "9c798017-eead-4dea-9710-cd0bc789988f",
   "metadata": {},
   "outputs": [
    {
     "data": {
      "text/html": [
       "<div>\n",
       "<style scoped>\n",
       "    .dataframe tbody tr th:only-of-type {\n",
       "        vertical-align: middle;\n",
       "    }\n",
       "\n",
       "    .dataframe tbody tr th {\n",
       "        vertical-align: top;\n",
       "    }\n",
       "\n",
       "    .dataframe thead th {\n",
       "        text-align: right;\n",
       "    }\n",
       "</style>\n",
       "<table border=\"1\" class=\"dataframe\">\n",
       "  <thead>\n",
       "    <tr style=\"text-align: right;\">\n",
       "      <th></th>\n",
       "      <th>areaType</th>\n",
       "      <th>changeStamp.lastModifiedBy</th>\n",
       "      <th>changeStamp.lastModifiedDate</th>\n",
       "      <th>defaultArea</th>\n",
       "      <th>description</th>\n",
       "      <th>id</th>\n",
       "      <th>links.slackChannels</th>\n",
       "      <th>links.ui</th>\n",
       "      <th>members</th>\n",
       "      <th>name</th>\n",
       "      <th>paOwnerGroup</th>\n",
       "      <th>paOwnerGroup.ownerGroupMemberResourceList</th>\n",
       "      <th>paOwnerGroup.ownerResource</th>\n",
       "      <th>paOwnerGroup.ownerResource.email</th>\n",
       "      <th>paOwnerGroup.ownerResource.endDate</th>\n",
       "      <th>paOwnerGroup.ownerResource.familyName</th>\n",
       "      <th>paOwnerGroup.ownerResource.fullName</th>\n",
       "      <th>paOwnerGroup.ownerResource.givenName</th>\n",
       "      <th>paOwnerGroup.ownerResource.links.ui</th>\n",
       "      <th>paOwnerGroup.ownerResource.navIdent</th>\n",
       "      <th>paOwnerGroup.ownerResource.onLeave</th>\n",
       "      <th>paOwnerGroup.ownerResource.resourceType</th>\n",
       "      <th>paOwnerGroup.ownerResource.stale</th>\n",
       "      <th>paOwnerGroup.ownerResource.startDate</th>\n",
       "      <th>slackChannel</th>\n",
       "      <th>status</th>\n",
       "      <th>tags</th>\n",
       "      <th>member-list</th>\n",
       "    </tr>\n",
       "  </thead>\n",
       "  <tbody>\n",
       "    <tr>\n",
       "      <th>0</th>\n",
       "      <td>PRODUCT_AREA</td>\n",
       "      <td>L105681 - Lied, Lene</td>\n",
       "      <td>2022-05-07T11:48:31.0226</td>\n",
       "      <td>False</td>\n",
       "      <td>I produktområde helse utvikler vi digitale tje...</td>\n",
       "      <td>6b149078-927b-4570-a1ce-97bbb9499fb6</td>\n",
       "      <td>[{'name': '#område-helse', 'url': 'https://sla...</td>\n",
       "      <td>https://teamkatalog.nav.no/area/6b149078-927b-...</td>\n",
       "      <td>[{'navIdent': 'M164897', 'description': None, ...</td>\n",
       "      <td>Produktområde helse</td>\n",
       "      <td>NaN</td>\n",
       "      <td>[{'navIdent': 'W138575', 'givenName': 'Kristin...</td>\n",
       "      <td>NaN</td>\n",
       "      <td>Kristian.Munthe@nav.no</td>\n",
       "      <td>NaN</td>\n",
       "      <td>Munthe</td>\n",
       "      <td>Kristian Munthe</td>\n",
       "      <td>Kristian</td>\n",
       "      <td>https://teamkatalog.nav.no/resource/M106440</td>\n",
       "      <td>M106440</td>\n",
       "      <td>False</td>\n",
       "      <td>INTERNAL</td>\n",
       "      <td>False</td>\n",
       "      <td>2000-12-28</td>\n",
       "      <td>#område-helse</td>\n",
       "      <td>ACTIVE</td>\n",
       "      <td>[]</td>\n",
       "      <td>[[0, M164897, None, [AREA_LEAD], 0, None, None...</td>\n",
       "    </tr>\n",
       "  </tbody>\n",
       "</table>\n",
       "</div>"
      ],
      "text/plain": [
       "       areaType changeStamp.lastModifiedBy changeStamp.lastModifiedDate  \\\n",
       "0  PRODUCT_AREA       L105681 - Lied, Lene     2022-05-07T11:48:31.0226   \n",
       "\n",
       "   defaultArea                                        description  \\\n",
       "0        False  I produktområde helse utvikler vi digitale tje...   \n",
       "\n",
       "                                     id  \\\n",
       "0  6b149078-927b-4570-a1ce-97bbb9499fb6   \n",
       "\n",
       "                                 links.slackChannels  \\\n",
       "0  [{'name': '#område-helse', 'url': 'https://sla...   \n",
       "\n",
       "                                            links.ui  \\\n",
       "0  https://teamkatalog.nav.no/area/6b149078-927b-...   \n",
       "\n",
       "                                             members                 name  \\\n",
       "0  [{'navIdent': 'M164897', 'description': None, ...  Produktområde helse   \n",
       "\n",
       "   paOwnerGroup          paOwnerGroup.ownerGroupMemberResourceList  \\\n",
       "0           NaN  [{'navIdent': 'W138575', 'givenName': 'Kristin...   \n",
       "\n",
       "   paOwnerGroup.ownerResource paOwnerGroup.ownerResource.email  \\\n",
       "0                         NaN           Kristian.Munthe@nav.no   \n",
       "\n",
       "   paOwnerGroup.ownerResource.endDate paOwnerGroup.ownerResource.familyName  \\\n",
       "0                                 NaN                                Munthe   \n",
       "\n",
       "  paOwnerGroup.ownerResource.fullName paOwnerGroup.ownerResource.givenName  \\\n",
       "0                     Kristian Munthe                             Kristian   \n",
       "\n",
       "           paOwnerGroup.ownerResource.links.ui  \\\n",
       "0  https://teamkatalog.nav.no/resource/M106440   \n",
       "\n",
       "  paOwnerGroup.ownerResource.navIdent paOwnerGroup.ownerResource.onLeave  \\\n",
       "0                             M106440                              False   \n",
       "\n",
       "  paOwnerGroup.ownerResource.resourceType paOwnerGroup.ownerResource.stale  \\\n",
       "0                                INTERNAL                            False   \n",
       "\n",
       "  paOwnerGroup.ownerResource.startDate   slackChannel  status tags  \\\n",
       "0                           2000-12-28  #område-helse  ACTIVE   []   \n",
       "\n",
       "                                         member-list  \n",
       "0  [[0, M164897, None, [AREA_LEAD], 0, None, None...  "
      ]
     },
     "execution_count": 6,
     "metadata": {},
     "output_type": "execute_result"
    }
   ],
   "source": [
    "df_productarea.head(1)"
   ]
  },
  {
   "cell_type": "code",
   "execution_count": 7,
   "id": "3082bcf4-1459-447f-8e8e-7d81ca21eb37",
   "metadata": {},
   "outputs": [],
   "source": [
    "df_productarea = df_productarea.drop(columns=['changeStamp.lastModifiedBy'])"
   ]
  },
  {
   "cell_type": "code",
   "execution_count": 8,
   "id": "10670895-faa4-4daa-be4a-94bbe7951ac6",
   "metadata": {},
   "outputs": [
    {
     "data": {
      "text/plain": [
       "areaType                                      object\n",
       "changeStamp.lastModifiedDate                  object\n",
       "defaultArea                                     bool\n",
       "description                                   object\n",
       "id                                            object\n",
       "links.slackChannels                           object\n",
       "links.ui                                      object\n",
       "members                                       object\n",
       "name                                          object\n",
       "paOwnerGroup                                 float64\n",
       "paOwnerGroup.ownerGroupMemberResourceList     object\n",
       "paOwnerGroup.ownerResource                   float64\n",
       "paOwnerGroup.ownerResource.email              object\n",
       "paOwnerGroup.ownerResource.endDate           float64\n",
       "paOwnerGroup.ownerResource.familyName         object\n",
       "paOwnerGroup.ownerResource.fullName           object\n",
       "paOwnerGroup.ownerResource.givenName          object\n",
       "paOwnerGroup.ownerResource.links.ui           object\n",
       "paOwnerGroup.ownerResource.navIdent           object\n",
       "paOwnerGroup.ownerResource.onLeave            object\n",
       "paOwnerGroup.ownerResource.resourceType       object\n",
       "paOwnerGroup.ownerResource.stale              object\n",
       "paOwnerGroup.ownerResource.startDate          object\n",
       "slackChannel                                  object\n",
       "status                                        object\n",
       "tags                                          object\n",
       "member-list                                   object\n",
       "dtype: object"
      ]
     },
     "execution_count": 8,
     "metadata": {},
     "output_type": "execute_result"
    }
   ],
   "source": [
    "df_productarea.dtypes"
   ]
  },
  {
   "cell_type": "code",
   "execution_count": 9,
   "id": "375fbc4b-8138-4c49-b50e-f08bb6efb65c",
   "metadata": {},
   "outputs": [],
   "source": [
    "def convert_area_type(area_type):\n",
    "    if area_type:\n",
    "        return AreaType[area_type].value\n",
    "    else:\n",
    "        return AreaType.OTHER.value"
   ]
  },
  {
   "cell_type": "code",
   "execution_count": 10,
   "id": "08fffc11-1a43-4b6d-bc16-fbaeb48f1b2e",
   "metadata": {},
   "outputs": [],
   "source": [
    "df_productarea[\"areaType\"] = df_productarea[\"areaType\"].apply(convert_area_type)"
   ]
  },
  {
   "cell_type": "code",
   "execution_count": 11,
   "id": "e307de08-5e7b-40fb-8cec-a9f7eb941de8",
   "metadata": {},
   "outputs": [
    {
     "name": "stderr",
     "output_type": "stream",
     "text": [
      "/tmp/ipykernel_242/3703384248.py:1: FutureWarning: The default value of regex will change from True to False in a future version. In addition, single character regular expressions will *not* be treated as literal strings when regex=True.\n",
      "  df_productarea.columns = df_productarea.columns.str.replace('.', '_')\n"
     ]
    }
   ],
   "source": [
    "df_productarea.columns = df_productarea.columns.str.replace('.', '_')"
   ]
  },
  {
   "cell_type": "code",
   "execution_count": 12,
   "id": "61c4aa09-9399-49ea-aef8-79229d0e93c5",
   "metadata": {},
   "outputs": [
    {
     "name": "stderr",
     "output_type": "stream",
     "text": [
      "/tmp/ipykernel_242/1674685619.py:6: FutureWarning: The frame.append method is deprecated and will be removed from pandas in a future version. Use pandas.concat instead.\n",
      "  df_teams = df_teams.append(normalized, sort=True)\n"
     ]
    }
   ],
   "source": [
    "df_teams = pd.DataFrame()\n",
    "url = 'https://teamkatalog-api.nais.adeo.no/team'\n",
    "r = requests.get(url, headers=headers)\n",
    "content = r.json()['content']\n",
    "normalized = json_normalize(content)\n",
    "df_teams = df_teams.append(normalized, sort=True)\n",
    "df_teams['member-list'] = df_teams['members'].apply(lambda x: json_normalize(x).to_records())"
   ]
  },
  {
   "cell_type": "code",
   "execution_count": 13,
   "id": "b0572407-02be-4120-aa4f-3b14f351e2c8",
   "metadata": {},
   "outputs": [
    {
     "data": {
      "text/html": [
       "<div>\n",
       "<style scoped>\n",
       "    .dataframe tbody tr th:only-of-type {\n",
       "        vertical-align: middle;\n",
       "    }\n",
       "\n",
       "    .dataframe tbody tr th {\n",
       "        vertical-align: top;\n",
       "    }\n",
       "\n",
       "    .dataframe thead th {\n",
       "        text-align: right;\n",
       "    }\n",
       "</style>\n",
       "<table border=\"1\" class=\"dataframe\">\n",
       "  <thead>\n",
       "    <tr style=\"text-align: right;\">\n",
       "      <th></th>\n",
       "      <th>changeStamp.lastModifiedBy</th>\n",
       "      <th>changeStamp.lastModifiedDate</th>\n",
       "      <th>clusterIds</th>\n",
       "      <th>contactAddresses</th>\n",
       "      <th>contactPersonIdent</th>\n",
       "      <th>description</th>\n",
       "      <th>id</th>\n",
       "      <th>links.slackChannels</th>\n",
       "      <th>links.ui</th>\n",
       "      <th>members</th>\n",
       "      <th>naisTeams</th>\n",
       "      <th>name</th>\n",
       "      <th>officeHours</th>\n",
       "      <th>officeHours.days</th>\n",
       "      <th>officeHours.information</th>\n",
       "      <th>officeHours.location.code</th>\n",
       "      <th>officeHours.location.description</th>\n",
       "      <th>officeHours.location.displayName</th>\n",
       "      <th>officeHours.location.parent.code</th>\n",
       "      <th>officeHours.location.parent.description</th>\n",
       "      <th>officeHours.location.parent.displayName</th>\n",
       "      <th>officeHours.location.parent.parent.code</th>\n",
       "      <th>officeHours.location.parent.parent.description</th>\n",
       "      <th>officeHours.location.parent.parent.displayName</th>\n",
       "      <th>officeHours.location.parent.parent.parent</th>\n",
       "      <th>officeHours.location.parent.parent.type</th>\n",
       "      <th>officeHours.location.parent.type</th>\n",
       "      <th>officeHours.location.type</th>\n",
       "      <th>productAreaId</th>\n",
       "      <th>qaTime</th>\n",
       "      <th>slackChannel</th>\n",
       "      <th>status</th>\n",
       "      <th>tags</th>\n",
       "      <th>teamOwnerIdent</th>\n",
       "      <th>teamOwnershipType</th>\n",
       "      <th>teamType</th>\n",
       "      <th>member-list</th>\n",
       "    </tr>\n",
       "  </thead>\n",
       "  <tbody>\n",
       "    <tr>\n",
       "      <th>0</th>\n",
       "      <td>T160428 - Thrap-Meyer, Julian Ravn</td>\n",
       "      <td>2023-02-07T13:19:34.049889</td>\n",
       "      <td>[7916e6cc-e7ab-41d2-bdaf-33488766d702]</td>\n",
       "      <td>[]</td>\n",
       "      <td>J157811</td>\n",
       "      <td>Ansvar for nais deploy og de fleste av feature...</td>\n",
       "      <td>fc44e424-f5ae-4d82-bfd4-bb2f49cfb2ce</td>\n",
       "      <td>[{'name': '#nais', 'url': 'https://slack.com/a...</td>\n",
       "      <td>https://teamkatalog.nav.no/team/fc44e424-f5ae-...</td>\n",
       "      <td>[{'navIdent': 'E154363', 'description': None, ...</td>\n",
       "      <td>[]</td>\n",
       "      <td>nais-features</td>\n",
       "      <td>NaN</td>\n",
       "      <td>[]</td>\n",
       "      <td>None</td>\n",
       "      <td>FA1-BA-E8</td>\n",
       "      <td>Etasje 8</td>\n",
       "      <td>Fyrstikkalléen 1, Bygg A, Etasje 8</td>\n",
       "      <td>FA1-BA</td>\n",
       "      <td>Bygg A</td>\n",
       "      <td>Fyrstikkalléen 1, Bygg A</td>\n",
       "      <td>FA1</td>\n",
       "      <td>Fyrstikkalléen 1</td>\n",
       "      <td>Fyrstikkalléen 1</td>\n",
       "      <td>NaN</td>\n",
       "      <td>BUILDING</td>\n",
       "      <td>SECTION</td>\n",
       "      <td>FLOOR</td>\n",
       "      <td>6dbeedea-b23e-4bf7-a1cb-21d02d15e452</td>\n",
       "      <td>2022-11-21T13:49:00</td>\n",
       "      <td>#nais</td>\n",
       "      <td>ACTIVE</td>\n",
       "      <td>[]</td>\n",
       "      <td>None</td>\n",
       "      <td>IT</td>\n",
       "      <td>PLATFORM</td>\n",
       "      <td>[[0, E154363, None, [DEVELOPER], 0, None, None...</td>\n",
       "    </tr>\n",
       "  </tbody>\n",
       "</table>\n",
       "</div>"
      ],
      "text/plain": [
       "           changeStamp.lastModifiedBy changeStamp.lastModifiedDate  \\\n",
       "0  T160428 - Thrap-Meyer, Julian Ravn   2023-02-07T13:19:34.049889   \n",
       "\n",
       "                               clusterIds contactAddresses contactPersonIdent  \\\n",
       "0  [7916e6cc-e7ab-41d2-bdaf-33488766d702]               []            J157811   \n",
       "\n",
       "                                         description  \\\n",
       "0  Ansvar for nais deploy og de fleste av feature...   \n",
       "\n",
       "                                     id  \\\n",
       "0  fc44e424-f5ae-4d82-bfd4-bb2f49cfb2ce   \n",
       "\n",
       "                                 links.slackChannels  \\\n",
       "0  [{'name': '#nais', 'url': 'https://slack.com/a...   \n",
       "\n",
       "                                            links.ui  \\\n",
       "0  https://teamkatalog.nav.no/team/fc44e424-f5ae-...   \n",
       "\n",
       "                                             members naisTeams           name  \\\n",
       "0  [{'navIdent': 'E154363', 'description': None, ...        []  nais-features   \n",
       "\n",
       "   officeHours officeHours.days officeHours.information  \\\n",
       "0          NaN               []                    None   \n",
       "\n",
       "  officeHours.location.code officeHours.location.description  \\\n",
       "0                 FA1-BA-E8                         Etasje 8   \n",
       "\n",
       "     officeHours.location.displayName officeHours.location.parent.code  \\\n",
       "0  Fyrstikkalléen 1, Bygg A, Etasje 8                           FA1-BA   \n",
       "\n",
       "  officeHours.location.parent.description  \\\n",
       "0                                  Bygg A   \n",
       "\n",
       "  officeHours.location.parent.displayName  \\\n",
       "0                Fyrstikkalléen 1, Bygg A   \n",
       "\n",
       "  officeHours.location.parent.parent.code  \\\n",
       "0                                     FA1   \n",
       "\n",
       "  officeHours.location.parent.parent.description  \\\n",
       "0                               Fyrstikkalléen 1   \n",
       "\n",
       "  officeHours.location.parent.parent.displayName  \\\n",
       "0                               Fyrstikkalléen 1   \n",
       "\n",
       "   officeHours.location.parent.parent.parent  \\\n",
       "0                                        NaN   \n",
       "\n",
       "  officeHours.location.parent.parent.type officeHours.location.parent.type  \\\n",
       "0                                BUILDING                          SECTION   \n",
       "\n",
       "  officeHours.location.type                         productAreaId  \\\n",
       "0                     FLOOR  6dbeedea-b23e-4bf7-a1cb-21d02d15e452   \n",
       "\n",
       "                qaTime slackChannel  status tags teamOwnerIdent  \\\n",
       "0  2022-11-21T13:49:00        #nais  ACTIVE   []           None   \n",
       "\n",
       "  teamOwnershipType  teamType  \\\n",
       "0                IT  PLATFORM   \n",
       "\n",
       "                                         member-list  \n",
       "0  [[0, E154363, None, [DEVELOPER], 0, None, None...  "
      ]
     },
     "execution_count": 13,
     "metadata": {},
     "output_type": "execute_result"
    }
   ],
   "source": [
    "df_teams.head(1)"
   ]
  },
  {
   "cell_type": "code",
   "execution_count": 14,
   "id": "d06575e2-5ab1-49bf-87d8-b96b2d39eb13",
   "metadata": {},
   "outputs": [
    {
     "data": {
      "text/plain": [
       "changeStamp.lastModifiedBy                         object\n",
       "changeStamp.lastModifiedDate                       object\n",
       "clusterIds                                         object\n",
       "contactAddresses                                   object\n",
       "contactPersonIdent                                 object\n",
       "description                                        object\n",
       "id                                                 object\n",
       "links.slackChannels                                object\n",
       "links.ui                                           object\n",
       "members                                            object\n",
       "naisTeams                                          object\n",
       "name                                               object\n",
       "officeHours                                       float64\n",
       "officeHours.days                                   object\n",
       "officeHours.information                            object\n",
       "officeHours.location.code                          object\n",
       "officeHours.location.description                   object\n",
       "officeHours.location.displayName                   object\n",
       "officeHours.location.parent.code                   object\n",
       "officeHours.location.parent.description            object\n",
       "officeHours.location.parent.displayName            object\n",
       "officeHours.location.parent.parent.code            object\n",
       "officeHours.location.parent.parent.description     object\n",
       "officeHours.location.parent.parent.displayName     object\n",
       "officeHours.location.parent.parent.parent         float64\n",
       "officeHours.location.parent.parent.type            object\n",
       "officeHours.location.parent.type                   object\n",
       "officeHours.location.type                          object\n",
       "productAreaId                                      object\n",
       "qaTime                                             object\n",
       "slackChannel                                       object\n",
       "status                                             object\n",
       "tags                                               object\n",
       "teamOwnerIdent                                     object\n",
       "teamOwnershipType                                  object\n",
       "teamType                                           object\n",
       "member-list                                        object\n",
       "dtype: object"
      ]
     },
     "execution_count": 14,
     "metadata": {},
     "output_type": "execute_result"
    }
   ],
   "source": [
    "df_teams.dtypes"
   ]
  },
  {
   "cell_type": "code",
   "execution_count": 15,
   "id": "bce0c20f-c176-4819-9af0-0417131f0eb3",
   "metadata": {},
   "outputs": [],
   "source": [
    "df_teams = df_teams.drop(columns=['changeStamp.lastModifiedBy'])"
   ]
  },
  {
   "cell_type": "code",
   "execution_count": 16,
   "id": "4b91031b-6ed6-4c0c-9953-6f76b7e635ce",
   "metadata": {},
   "outputs": [],
   "source": [
    "def convert_team_type(team_type):\n",
    "    return TeamType[team_type].value"
   ]
  },
  {
   "cell_type": "code",
   "execution_count": 17,
   "id": "9cd5501a-380d-4fbd-9636-f443c87ac80b",
   "metadata": {},
   "outputs": [
    {
     "name": "stderr",
     "output_type": "stream",
     "text": [
      "/tmp/ipykernel_242/2535767319.py:1: FutureWarning: The default value of regex will change from True to False in a future version. In addition, single character regular expressions will *not* be treated as literal strings when regex=True.\n",
      "  df_teams.columns = df_teams.columns.str.replace('.', '_')\n"
     ]
    }
   ],
   "source": [
    "df_teams.columns = df_teams.columns.str.replace('.', '_')"
   ]
  },
  {
   "cell_type": "markdown",
   "id": "a18941a4-617c-4f69-b7a3-9a7dfe9be9cf",
   "metadata": {},
   "source": [
    "### Publish data to BigQuery"
   ]
  },
  {
   "cell_type": "code",
   "execution_count": 18,
   "id": "e7ec664b-2127-418a-b481-604596fc1c3a",
   "metadata": {},
   "outputs": [],
   "source": [
    "#Navn på prosjekt og dataset som definert i BigQuery\n",
    "project_id = 'org-prod-1016'\n",
    "dataset = 'teamkatalogen'\n",
    "\n",
    "from google.cloud import bigquery\n",
    "client = bigquery.Client(project=project_id)"
   ]
  },
  {
   "cell_type": "code",
   "execution_count": 19,
   "id": "65c730b4-d5e4-4ba1-a34d-cd5eaf9318c5",
   "metadata": {},
   "outputs": [],
   "source": [
    "df_teams_pub= df_teams.copy()"
   ]
  },
  {
   "cell_type": "code",
   "execution_count": 20,
   "id": "8794178e-f11c-4f10-aacb-3d9b98a4e7c4",
   "metadata": {},
   "outputs": [],
   "source": [
    "df_teams_pub = df_teams_pub.astype({ 'clusterIds': 'string','links_slackChannels': 'string', 'members': 'string', 'member-list': 'string'})"
   ]
  },
  {
   "cell_type": "code",
   "execution_count": 21,
   "id": "1a336693-c499-4774-82a6-f11ab61151f6",
   "metadata": {},
   "outputs": [],
   "source": [
    "#Istedenfor å spesifisere typen på variablene så plukker vi ut én kolonne til å teste med.\n",
    "#df_teams_pub = df_teams_pub[['name']]"
   ]
  },
  {
   "cell_type": "code",
   "execution_count": 22,
   "id": "4f6b34b6-0aea-44c5-9211-9004d8e68189",
   "metadata": {},
   "outputs": [],
   "source": [
    "#df_teams_pub[['name']]"
   ]
  },
  {
   "cell_type": "code",
   "execution_count": 23,
   "id": "bd836fb9-afcf-405e-bb07-e1882212dfe6",
   "metadata": {},
   "outputs": [],
   "source": [
    "#df_teams_pub = df_teams_pub.head(1)"
   ]
  },
  {
   "cell_type": "code",
   "execution_count": 24,
   "id": "9517c075-7973-4dd8-b778-cecab8bfa552",
   "metadata": {},
   "outputs": [
    {
     "name": "stderr",
     "output_type": "stream",
     "text": [
      "/home/jovyan/.local/lib/python3.9/site-packages/google/cloud/bigquery/_pandas_helpers.py:571: UserWarning: Pyarrow could not determine the type of columns: contactAddresses.\n",
      "  warnings.warn(\n"
     ]
    },
    {
     "data": {
      "text/plain": [
       "LoadJob<project=org-prod-1016, location=europe-north1, id=0cd13a12-0a90-4ae7-bb23-3be06a102c23>"
      ]
     },
     "execution_count": 24,
     "metadata": {},
     "output_type": "execute_result"
    }
   ],
   "source": [
    "table = 'teams'\n",
    "destination_table = f\"{project_id}.{dataset}.{table}\"\n",
    "\n",
    "job_config = bigquery.LoadJobConfig(write_disposition=\"WRITE_TRUNCATE\",)\n",
    "job = client.load_table_from_dataframe(df_teams_pub, destination_table, job_config=job_config)\n",
    "job.result()"
   ]
  },
  {
   "cell_type": "code",
   "execution_count": null,
   "id": "d14dc3b4-eedc-4f19-a6e9-b8f6d903c352",
   "metadata": {},
   "outputs": [],
   "source": []
  }
 ],
 "metadata": {
  "kernelspec": {
   "display_name": "Python 3 (ipykernel)",
   "language": "python",
   "name": "python3"
  },
  "language_info": {
   "codemirror_mode": {
    "name": "ipython",
    "version": 3
   },
   "file_extension": ".py",
   "mimetype": "text/x-python",
   "name": "python",
   "nbconvert_exporter": "python",
   "pygments_lexer": "ipython3",
   "version": "3.9.13"
  }
 },
 "nbformat": 4,
 "nbformat_minor": 5
}
